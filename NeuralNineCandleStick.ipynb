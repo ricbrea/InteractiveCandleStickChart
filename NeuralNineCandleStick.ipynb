{
 "cells": [
  {
   "cell_type": "markdown",
   "id": "bf6401e7-0bf8-470d-83ad-a87ed8dbe5f8",
   "metadata": {
    "jp-MarkdownHeadingCollapsed": true,
    "tags": []
   },
   "source": [
    "Import Statements"
   ]
  },
  {
   "cell_type": "code",
   "execution_count": 5,
   "id": "c86a737a-d8af-49ba-8615-9d887062a4f7",
   "metadata": {},
   "outputs": [],
   "source": [
    "import pandas as pd\n",
    "import numpy as np\n",
    "import matplotlib.pyplot as plt\n",
    "import matplotlib.dates as mdates\n",
    "import datetime as dt\n",
    "import pandas_datareader as web\n",
    "from mpl_finance import candlestick_ohlc"
   ]
  },
  {
   "cell_type": "markdown",
   "id": "2f486e1e-0b4f-4529-96a5-a044d8c52f6b",
   "metadata": {},
   "source": [
    "Define Time Frame"
   ]
  },
  {
   "cell_type": "code",
   "execution_count": 6,
   "id": "9a993920-14be-4c14-ae68-42ab2b408dc5",
   "metadata": {},
   "outputs": [
    {
     "name": "stdout",
     "output_type": "stream",
     "text": [
      "Please enter a date in the format of YYYY,MM,DD\n"
     ]
    },
    {
     "name": "stdin",
     "output_type": "stream",
     "text": [
      " 2019,02,14\n"
     ]
    }
   ],
   "source": [
    "#start = dt.datetime(2022,1,1)\n",
    "print(\"Please enter a date in the format of YYYY,MM,DD\")\n",
    "try:\n",
    "    startdate = input()\n",
    "    starting = startdate.split(',')\n",
    "    startyear = int(starting[0])\n",
    "    startmonth = int(starting[1])\n",
    "    startday = int(starting[2])\n",
    "    start = dt.datetime(startyear, startmonth, startday)\n",
    "except ValueError:\n",
    "    print(\"Incorrect date format. Please try again using YYYY,MM,DD.\")\n",
    "end = dt.datetime.now()"
   ]
  },
  {
   "cell_type": "markdown",
   "id": "77c46b29-7d16-4691-b5ef-66235abe1885",
   "metadata": {},
   "source": [
    "Choose Which Company's Data to Load"
   ]
  },
  {
   "cell_type": "code",
   "execution_count": 7,
   "id": "9f27f3b7-734a-43e7-a85d-e6e3c0a0bc54",
   "metadata": {},
   "outputs": [
    {
     "name": "stdin",
     "output_type": "stream",
     "text": [
      " AAPL\n"
     ]
    },
    {
     "name": "stdout",
     "output_type": "stream",
     "text": [
      "                  High         Low        Open       Close       Volume  \\\n",
      "Date                                                                      \n",
      "2019-02-14   42.814999   42.345001   42.427502   42.700001   87342800.0   \n",
      "2019-02-15   42.924999   42.437500   42.812500   42.605000   98507200.0   \n",
      "2019-02-19   42.860001   42.372501   42.427502   42.732498   75891200.0   \n",
      "2019-02-20   43.330002   42.747501   42.797501   43.007500  104457600.0   \n",
      "2019-02-21   43.092499   42.575001   42.950001   42.764999   68998800.0   \n",
      "...                ...         ...         ...         ...          ...   \n",
      "2022-10-28  157.500000  147.820007  148.199997  155.740005  164762400.0   \n",
      "2022-10-31  154.240005  151.919998  153.160004  153.339996   97943200.0   \n",
      "2022-11-01  155.449997  149.130005  155.080002  150.649994   80379300.0   \n",
      "2022-11-02  152.169998  145.000000  148.949997  145.029999   93604600.0   \n",
      "2022-11-03  142.800003  138.750000  142.059998  138.880005   97572100.0   \n",
      "\n",
      "             Adj Close  \n",
      "Date                    \n",
      "2019-02-14   41.458416  \n",
      "2019-02-15   41.366177  \n",
      "2019-02-19   41.489975  \n",
      "2019-02-20   41.756977  \n",
      "2019-02-21   41.521526  \n",
      "...                ...  \n",
      "2022-10-28  155.740005  \n",
      "2022-10-31  153.339996  \n",
      "2022-11-01  150.649994  \n",
      "2022-11-02  145.029999  \n",
      "2022-11-03  138.880005  \n",
      "\n",
      "[939 rows x 6 columns]\n"
     ]
    }
   ],
   "source": [
    "company = input(\"Enter the company's ticker name. For example AAPL for Apple\")\n",
    "data = web.DataReader(company, 'yahoo', start, end)\n",
    "print(data)"
   ]
  },
  {
   "cell_type": "markdown",
   "id": "d1cce441-6df1-4eaf-91fc-0314035ae3c8",
   "metadata": {},
   "source": [
    "Restructuring Data"
   ]
  },
  {
   "cell_type": "code",
   "execution_count": 8,
   "id": "c1b1a915-e6a4-4775-ad25-fb016af44964",
   "metadata": {},
   "outputs": [
    {
     "name": "stdout",
     "output_type": "stream",
     "text": [
      "                  Open        High         Low       Close\n",
      "Date                                                      \n",
      "2019-02-14   42.427502   42.814999   42.345001   42.700001\n",
      "2019-02-15   42.812500   42.924999   42.437500   42.605000\n",
      "2019-02-19   42.427502   42.860001   42.372501   42.732498\n",
      "2019-02-20   42.797501   43.330002   42.747501   43.007500\n",
      "2019-02-21   42.950001   43.092499   42.575001   42.764999\n",
      "...                ...         ...         ...         ...\n",
      "2022-10-28  148.199997  157.500000  147.820007  155.740005\n",
      "2022-10-31  153.160004  154.240005  151.919998  153.339996\n",
      "2022-11-01  155.080002  155.449997  149.130005  150.649994\n",
      "2022-11-02  148.949997  152.169998  145.000000  145.029999\n",
      "2022-11-03  142.059998  142.800003  138.750000  138.880005\n",
      "\n",
      "[939 rows x 4 columns]\n"
     ]
    }
   ],
   "source": [
    "cleaned_data = data[['Open','High','Low','Close']]\n",
    "print(cleaned_data)"
   ]
  },
  {
   "cell_type": "code",
   "execution_count": 14,
   "id": "250b049f-89d9-4f5a-972d-be914616d856",
   "metadata": {},
   "outputs": [
    {
     "name": "stdout",
     "output_type": "stream",
     "text": [
      "          Date        Open        High         Low       Close\n",
      "0   2019-02-14   42.427502   42.814999   42.345001   42.700001\n",
      "1   2019-02-15   42.812500   42.924999   42.437500   42.605000\n",
      "2   2019-02-19   42.427502   42.860001   42.372501   42.732498\n",
      "3   2019-02-20   42.797501   43.330002   42.747501   43.007500\n",
      "4   2019-02-21   42.950001   43.092499   42.575001   42.764999\n",
      "..         ...         ...         ...         ...         ...\n",
      "934 2022-10-28  148.199997  157.500000  147.820007  155.740005\n",
      "935 2022-10-31  153.160004  154.240005  151.919998  153.339996\n",
      "936 2022-11-01  155.080002  155.449997  149.130005  150.649994\n",
      "937 2022-11-02  148.949997  152.169998  145.000000  145.029999\n",
      "938 2022-11-03  142.059998  142.800003  138.750000  138.880005\n",
      "\n",
      "[939 rows x 5 columns]\n"
     ]
    }
   ],
   "source": [
    "cleaned_data.reset_index(inplace=True)\n",
    "print(cleaned_data)"
   ]
  },
  {
   "cell_type": "code",
   "execution_count": 15,
   "id": "67791c7d-7b56-4044-aaeb-03253cb1b777",
   "metadata": {},
   "outputs": [
    {
     "name": "stdout",
     "output_type": "stream",
     "text": [
      "        Date        Open        High         Low       Close\n",
      "0    17941.0   42.427502   42.814999   42.345001   42.700001\n",
      "1    17942.0   42.812500   42.924999   42.437500   42.605000\n",
      "2    17946.0   42.427502   42.860001   42.372501   42.732498\n",
      "3    17947.0   42.797501   43.330002   42.747501   43.007500\n",
      "4    17948.0   42.950001   43.092499   42.575001   42.764999\n",
      "..       ...         ...         ...         ...         ...\n",
      "934  19293.0  148.199997  157.500000  147.820007  155.740005\n",
      "935  19296.0  153.160004  154.240005  151.919998  153.339996\n",
      "936  19297.0  155.080002  155.449997  149.130005  150.649994\n",
      "937  19298.0  148.949997  152.169998  145.000000  145.029999\n",
      "938  19299.0  142.059998  142.800003  138.750000  138.880005\n",
      "\n",
      "[939 rows x 5 columns]\n"
     ]
    },
    {
     "name": "stderr",
     "output_type": "stream",
     "text": [
      "C:\\Users\\bombe\\AppData\\Local\\Temp\\ipykernel_23684\\3248950835.py:1: SettingWithCopyWarning: \n",
      "A value is trying to be set on a copy of a slice from a DataFrame.\n",
      "Try using .loc[row_indexer,col_indexer] = value instead\n",
      "\n",
      "See the caveats in the documentation: https://pandas.pydata.org/pandas-docs/stable/user_guide/indexing.html#returning-a-view-versus-a-copy\n",
      "  cleaned_data['Date'] = cleaned_data['Date'].map(mdates.date2num)\n"
     ]
    }
   ],
   "source": [
    "cleaned_data['Date'] = cleaned_data['Date'].map(mdates.date2num)\n",
    "print(cleaned_data)"
   ]
  },
  {
   "cell_type": "markdown",
   "id": "8a77bd2a-8399-4ce7-96a4-aa299ee64996",
   "metadata": {},
   "source": [
    "Data Visualization"
   ]
  },
  {
   "cell_type": "code",
   "execution_count": 16,
   "id": "9332e524-be23-4d73-97fc-6be029dbba5c",
   "metadata": {},
   "outputs": [
    {
     "data": {
      "image/png": "[encoded data removed]",
      "text/plain": [
       "<Figure size 640x480 with 1 Axes>"
      ]
     },
     "metadata": {},
     "output_type": "display_data"
    }
   ],
   "source": [
    "ax = plt.subplot()\n",
    "ax.grid(True)\n",
    "ax.set_axisbelow(True)\n",
    "ax.set_title(company + ' Share Price', color='white')\n",
    "ax.set_facecolor('black')\n",
    "ax.figure.set_facecolor('#121212')\n",
    "ax.tick_params(axis='x', colors='white')\n",
    "ax.tick_params(axis='y', colors='white')\n",
    "ax.xaxis_date()\n",
    "\n",
    "\n",
    "candlestick_ohlc(ax, cleaned_data.values, width=0.5, colorup='#00ff00')\n",
    "plt.show()"
   ]
  },
  {
   "cell_type": "code",
   "execution_count": null,
   "id": "b9188d2d-e3fc-486f-9784-03a465a8bc17",
   "metadata": {},
   "outputs": [],
   "source": []
  }
 ],
 "metadata": {
  "kernelspec": {
   "display_name": "Python 3 (ipykernel)",
   "language": "python",
   "name": "python3"
  },
  "language_info": {
   "codemirror_mode": {
    "name": "ipython",
    "version": 3
   },
   "file_extension": ".py",
   "mimetype": "text/x-python",
   "name": "python",
   "nbconvert_exporter": "python",
   "pygments_lexer": "ipython3",
   "version": "3.9.13"
  }
 },
 "nbformat": 4,
 "nbformat_minor": 5
}
